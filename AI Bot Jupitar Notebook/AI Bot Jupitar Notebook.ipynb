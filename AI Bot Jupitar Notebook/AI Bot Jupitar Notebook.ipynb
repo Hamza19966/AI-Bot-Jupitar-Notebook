{
 "cells": [
  {
   "cell_type": "markdown",
   "id": "397acf0b",
   "metadata": {},
   "source": [
    
   ]
  },
  {
   "cell_type": "code",
   "execution_count": 1,
   "id": "b7a0dbf0",
   "metadata": {},
   "outputs": [],
   "source": [
    "from chatterbot import ChatBot"
   ]
  },
  {
   "cell_type": "code",
   "execution_count": 2,
   "id": "e36bccc3",
   "metadata": {},
   "outputs": [],
   "source": [
    "import time\n",
    "time.clock = time.time"
   ]
  },
  {
   "cell_type": "code",
   "execution_count": 3,
   "id": "ecb7c12a",
   "metadata": {},
   "outputs": [
    {
     "name": "stderr",
     "output_type": "stream",
     "text": [
      "[nltk_data] Downloading package averaged_perceptron_tagger to\n",
      "[nltk_data]     C:\\Users\\fahad\\AppData\\Roaming\\nltk_data...\n",
      "[nltk_data]   Package averaged_perceptron_tagger is already up-to-\n",
      "[nltk_data]       date!\n",
      "[nltk_data] Downloading package punkt to\n",
      "[nltk_data]     C:\\Users\\fahad\\AppData\\Roaming\\nltk_data...\n",
      "[nltk_data]   Package punkt is already up-to-date!\n",
      "[nltk_data] Downloading package stopwords to\n",
      "[nltk_data]     C:\\Users\\fahad\\AppData\\Roaming\\nltk_data...\n",
      "[nltk_data]   Package stopwords is already up-to-date!\n"
     ]
    }
   ],
   "source": [
    "bot = ChatBot('Buddy', read_only = True)"
   ]
  },
  {
   "cell_type": "code",
   "execution_count": 4,
   "id": "bf817955",
   "metadata": {},
   "outputs": [
    {
     "name": "stdout",
     "output_type": "stream",
     "text": [
      "List Trainer: [####################] 100%\n",
      "List Trainer: [####################] 100%\n"
     ]
    }
   ],
   "source": [
    "from chatterbot.trainers import ListTrainer\n",
    "trainer = ListTrainer(bot)\n",
    "trainer.train([ # Training the Bot by Adding questions for the Bot to answer once asked by the user.\n",
    " \"Hi, can I help you\",\n",
    " \"Who are you?\",\n",
    "\n",
    " \"I am your virtual assistant. Ask me any questions...\",\n",
    " \"Where do you operate?\",\n",
    " \"We operate from Singapore\",\n",
    " \"What payment methods do you accept?\",\n",
    " \"We accept debit cards and major credit cards\",\n",
    " \"I would like to speak to your customer service agent\",\n",
    " \"please call +65 3333 3333. Our operating hours are from 9am to 5pm, Monday to Friday\"\n",
    "\n",
    " \n",
    "])\n",
    "trainer.train([\n",
    " \"What payment methods do you offer?\",\n",
    " \"We accept debit cards and major credit cards\",\n",
    " \"How to contact customer service agent\",\n",
    " \"please call +65 3333 3333. Our operating hours are from 9am to 5pm, Monday to Friday\"\n",
    "\n",
    " \n",
    "])"
   ]
  },
  {
   "cell_type": "code",
   "execution_count": 5,
   "id": "8723ed06",
   "metadata": {},
   "outputs": [
    {
     "name": "stdout",
     "output_type": "stream",
     "text": [
      "We accept debit cards and major credit cards\n"
     ]
    }
   ],
   "source": [
    "response = bot.get_response ('payment method')\n",
    "print(response)\n"
   ]
  },
  {
   "cell_type": "code",
   "execution_count": 6,
   "id": "2cda9d14",
   "metadata": {},
   "outputs": [
    {
     "name": "stdout",
     "output_type": "stream",
     "text": [
      "Enter Your Name: Fahad\n",
      "Welcome to Chatbot Service! Let me know how can I help you\n",
      "Fahad:Who are you\n",
      "Bot:  I am your virtual assistant. Ask me any questions...\n",
      "Fahad:Where do you operate \n",
      "Bot:  We operate from Singapore\n",
      "Fahad:What payment methods do you accept?\n",
      "Bot:  We accept debit cards and major credit cards\n",
      "Fahad:I would like to speak to your customer service agent\n",
      "Bot:  please call +65 3333 3333. Our operating hours are from 9am to 5pm, Monday to Friday\n",
      "Fahad:Bye\n",
      "Bot: Bye\n"
     ]
    }
   ],
   "source": [
    "name = input('Enter Your Name: ') # The start of the conversation would be with the Bot asking the user Name.\n",
    "print ('Welcome to Chatbot Service! Let me know how can I help you')\n",
    "while True:\n",
    "    request = input(name+':')\n",
    "    if request==\"Bye\" or request=='bye':\n",
    "        print('Bot: Bye') # This fumction would end the conversation/Program.\n",
    "        break\n",
    "    else:\n",
    "        response=bot.get_response(request)\n",
    "        print('Bot: ', response)\n"
   ]
  }
 ],
 "metadata": {
  "kernelspec": {
   "display_name": "Python 3 (ipykernel)",
   "language": "python",
   "name": "python3"
  },
  "language_info": {
   "codemirror_mode": {
    "name": "ipython",
    "version": 3
   },
   "file_extension": ".py",
   "mimetype": "text/x-python",
   "name": "python",
   "nbconvert_exporter": "python",
   "pygments_lexer": "ipython3",
   "version": "3.10.9"
  }
 },
 "nbformat": 4,
 "nbformat_minor": 5
}
